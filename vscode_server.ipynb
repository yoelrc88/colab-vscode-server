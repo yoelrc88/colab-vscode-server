{
  "nbformat": 4,
  "nbformat_minor": 0,
  "metadata": {
    "colab": {
      "name": "vscode-server.ipynb",
      "provenance": [],
      "collapsed_sections": []
    },
    "kernelspec": {
      "name": "python3",
      "display_name": "Python 3"
    },
    "language_info": {
      "name": "python"
    }
  },
  "cells": [
    {
      "cell_type": "code",
      "metadata": {
        "colab": {
          "base_uri": "https://localhost:8080/"
        },
        "id": "PCxPaYLRWbIa",
        "outputId": "872581c0-4050-4163-d2ca-c9c9c0cd69fc"
      },
      "source": [
        "# Guide from https://towardsdatascience.com/colab-free-gpu-ssh-visual-studio-code-server-36fe1d3c5243\n",
        "# Install useful stuff\n",
        "! apt install --yes ssh screen nano htop ranger git > /dev/null\n",
        "# SSH setting\n",
        "! echo \"root:carbonara\" | chpasswd\n",
        "! echo \"PasswordAuthentication yes\" > /etc/ssh/sshd_config\n",
        "! echo \"PermitUserEnvironment yes\" >> /etc/ssh/sshd_config\n",
        "! echo \"PermitRootLogin yes\" >> /etc/ssh/sshd_config\n",
        "! service ssh restart > /dev/null\n",
        "# Download ngrok\n",
        "! wget -q -c -nc https://bin.equinox.io/c/4VmDzA7iaHb/ngrok-stable-linux-amd64.zip\n",
        "! unzip -qq -n ngrok-stable-linux-amd64.zip\n",
        "# Run ngrok\n",
        "authtoken = \"4r1XkfNuayXAHqQpxNKNV_4RBYTUDkYBh2At7CoXMo3\"\n",
        "get_ipython().system_raw('./ngrok authtoken $authtoken && ./ngrok tcp 22 &')\n",
        "! sleep 3\n",
        "# Get the address for SSH\n",
        "import requests\n",
        "from re import sub\n",
        "r = requests.get('http://localhost:4040/api/tunnels')\n",
        "str_ssh = r.json()['tunnels'][0]['public_url']\n",
        "str_ssh = sub(\"tcp://\", \"\", str_ssh)\n",
        "str_ssh = sub(\":\", \" -p \", str_ssh)\n",
        "str_ssh = \"ssh root@\" + str_ssh\n",
        "print(str_ssh)"
      ],
      "execution_count": 1,
      "outputs": [
        {
          "output_type": "stream",
          "name": "stdout",
          "text": [
            "\n",
            "WARNING: apt does not have a stable CLI interface. Use with caution in scripts.\n",
            "\n",
            "ssh root@4.tcp.ngrok.io -p 11092\n"
          ]
        }
      ]
    },
    {
      "cell_type": "code",
      "metadata": {
        "colab": {
          "base_uri": "https://localhost:8080/"
        },
        "id": "iH1W6JCtazqC",
        "outputId": "cec9c141-2d52-4883-f9ce-b782e4f26ac3"
      },
      "source": [
        "! curl -fsSL https://code-server.dev/install.sh | sh > /dev/null\n",
        "! code-server --bind-addr 127.0.0.1:9999 --auth none &"
      ],
      "execution_count": 2,
      "outputs": [
        {
          "output_type": "stream",
          "name": "stdout",
          "text": [
            "######################################################################## 100.0%\n",
            "[2022-01-27T00:17:14.324Z] \u001b[38;2;0;143;191minfo  \u001b[0mWrote default config file to ~/.config/code-server/config.yaml\u001b[0m\n",
            "[2022-01-27T00:17:14.799Z] info  code-server 4.0.1 735c6da829535969ff7193c79379299e4a1cb9bc\n",
            "[2022-01-27T00:17:14.805Z] info  Using user-data-dir ~/.local/share/code-server\n",
            "[2022-01-27T00:17:14.829Z] info  Using config file ~/.config/code-server/config.yaml\n",
            "[2022-01-27T00:17:14.829Z] info  HTTP server listening on http://127.0.0.1:9999/ \n",
            "[2022-01-27T00:17:14.829Z] info    - Authentication is disabled \n",
            "[2022-01-27T00:17:14.829Z] info    - Not serving HTTPS \n"
          ]
        }
      ]
    }
  ]
}